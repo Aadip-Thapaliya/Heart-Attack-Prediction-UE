{
 "cells": [
  {
   "cell_type": "code",
   "execution_count": 1,
   "id": "6f38c82d-c5d7-4f37-85a7-7e10e581e191",
   "metadata": {},
   "outputs": [
    {
     "name": "stdout",
     "output_type": "stream",
     "text": [
      "Files saved in the current directory:\n",
      "['.ipynb_checkpoints', 'heart_disease_features.csv', 'heart_disease_metadata.json', 'heart_disease_targets.csv', 'heart_disease_variables.json', 'Untitled.ipynb']\n"
     ]
    }
   ],
   "source": [
    "from ucimlrepo import fetch_ucirepo\n",
    "import pandas as pd\n",
    "import os\n",
    "\n",
    "# fetch dataset (Heart Disease)\n",
    "heart_disease = fetch_ucirepo(id=45)\n",
    "\n",
    "# data (as pandas dataframes)\n",
    "X = heart_disease.data.features\n",
    "y = heart_disease.data.targets\n",
    "\n",
    "# Save X and y to current directory\n",
    "X.to_csv(\"heart_disease_features.csv\", index=False)\n",
    "y.to_csv(\"heart_disease_targets.csv\", index=False)\n",
    "\n",
    "# Also save metadata and variable information as JSON (optional)\n",
    "with open(\"heart_disease_metadata.json\", \"w\") as f:\n",
    "    f.write(str(heart_disease.metadata))\n",
    "\n",
    "with open(\"heart_disease_variables.json\", \"w\") as f:\n",
    "    f.write(str(heart_disease.variables))\n",
    "\n",
    "print(\"Files saved in the current directory:\")\n",
    "print(os.listdir('.'))\n"
   ]
  },
  {
   "cell_type": "code",
   "execution_count": null,
   "id": "61355974-3600-45a4-aff7-4bbdde2350a0",
   "metadata": {},
   "outputs": [],
   "source": []
  }
 ],
 "metadata": {
  "kernelspec": {
   "display_name": "Python 3.10 (python310)",
   "language": "python",
   "name": "python310"
  },
  "language_info": {
   "codemirror_mode": {
    "name": "ipython",
    "version": 3
   },
   "file_extension": ".py",
   "mimetype": "text/x-python",
   "name": "python",
   "nbconvert_exporter": "python",
   "pygments_lexer": "ipython3",
   "version": "3.10.18"
  }
 },
 "nbformat": 4,
 "nbformat_minor": 5
}
